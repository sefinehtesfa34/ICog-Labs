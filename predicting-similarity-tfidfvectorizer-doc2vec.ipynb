{
 "cells": [
  {
   "cell_type": "markdown",
   "metadata": {
    "_cell_guid": "ef6f5b13-18f7-21c0-4bbc-40f3f884b4b5"
   },
   "source": [
    "# Predicting Similar Questions"
   ]
  },
  {
   "cell_type": "markdown",
   "metadata": {
    "_cell_guid": "ccd13167-9f2a-8d3b-99e6-f32447bb3286"
   },
   "source": [
    "The objective of this analysis is to use different Natural Language Processing methods to predict if pairs of questions have the same meaning. The data is from Quora and hosted on Kaggle: https://www.kaggle.com/quora/question-pairs-dataset. The sections of this analysis include:\n",
    "- Transforming the text\n",
    "- Method 1: TfidfVectorizer \n",
    "- Method 2: Doc2Vec"
   ]
  },
  {
   "cell_type": "code",
   "execution_count": 1,
   "metadata": {
    "_cell_guid": "bb195f9c-1578-e37e-4be4-b05d8e3b54ba"
   },
   "outputs": [],
   "source": [
    "import pandas as pd\n",
    "import numpy as np\n",
    "import nltk\n",
    "from nltk.corpus import stopwords\n",
    "from nltk.stem import SnowballStemmer\n",
    "import re\n",
    "from gensim import utils\n",
    "from gensim.models.doc2vec import LabeledSentence\n",
    "from gensim.models import Doc2Vec\n",
    "from sklearn.metrics.pairwise import cosine_similarity\n",
    "from sklearn.feature_extraction.text import TfidfVectorizer\n",
    "from sklearn.metrics import accuracy_score\n",
    "from sklearn.metrics import confusion_matrix\n",
    "from sklearn.metrics import classification_report\n",
    "import matplotlib.pyplot as plt"
   ]
  },
  {
   "cell_type": "code",
   "execution_count": 2,
   "metadata": {
    "_cell_guid": "bb8285d2-aeb1-8720-3b87-169b1be959a0"
   },
   "outputs": [],
   "source": [
    "df = pd.read_csv(\"../input/questions.csv\")"
   ]
  },
  {
   "cell_type": "code",
   "execution_count": 3,
   "metadata": {
    "_cell_guid": "db62bd83-cf15-15b1-25ad-b036c2f8882c"
   },
   "outputs": [],
   "source": [
    "# Use the full dataset on your personal computer.\n",
    "# I'm using a fraction so that it doesn't time out when uploading.\n",
    "df = df[0:40000]"
   ]
  },
  {
   "cell_type": "code",
   "execution_count": 4,
   "metadata": {
    "_cell_guid": "def4f929-5770-91e3-e02b-5baf882e8b31"
   },
   "outputs": [
    {
     "data": {
      "text/html": [
       "<div>\n",
       "<table border=\"1\" class=\"dataframe\">\n",
       "  <thead>\n",
       "    <tr style=\"text-align: right;\">\n",
       "      <th></th>\n",
       "      <th>id</th>\n",
       "      <th>qid1</th>\n",
       "      <th>qid2</th>\n",
       "      <th>question1</th>\n",
       "      <th>question2</th>\n",
       "      <th>is_duplicate</th>\n",
       "    </tr>\n",
       "  </thead>\n",
       "  <tbody>\n",
       "    <tr>\n",
       "      <th>0</th>\n",
       "      <td>0</td>\n",
       "      <td>1</td>\n",
       "      <td>2</td>\n",
       "      <td>What is the step by step guide to invest in sh...</td>\n",
       "      <td>What is the step by step guide to invest in sh...</td>\n",
       "      <td>0</td>\n",
       "    </tr>\n",
       "    <tr>\n",
       "      <th>1</th>\n",
       "      <td>1</td>\n",
       "      <td>3</td>\n",
       "      <td>4</td>\n",
       "      <td>What is the story of Kohinoor (Koh-i-Noor) Dia...</td>\n",
       "      <td>What would happen if the Indian government sto...</td>\n",
       "      <td>0</td>\n",
       "    </tr>\n",
       "    <tr>\n",
       "      <th>2</th>\n",
       "      <td>2</td>\n",
       "      <td>5</td>\n",
       "      <td>6</td>\n",
       "      <td>How can I increase the speed of my internet co...</td>\n",
       "      <td>How can Internet speed be increased by hacking...</td>\n",
       "      <td>0</td>\n",
       "    </tr>\n",
       "    <tr>\n",
       "      <th>3</th>\n",
       "      <td>3</td>\n",
       "      <td>7</td>\n",
       "      <td>8</td>\n",
       "      <td>Why am I mentally very lonely? How can I solve...</td>\n",
       "      <td>Find the remainder when [math]23^{24}[/math] i...</td>\n",
       "      <td>0</td>\n",
       "    </tr>\n",
       "    <tr>\n",
       "      <th>4</th>\n",
       "      <td>4</td>\n",
       "      <td>9</td>\n",
       "      <td>10</td>\n",
       "      <td>Which one dissolve in water quikly sugar, salt...</td>\n",
       "      <td>Which fish would survive in salt water?</td>\n",
       "      <td>0</td>\n",
       "    </tr>\n",
       "    <tr>\n",
       "      <th>5</th>\n",
       "      <td>5</td>\n",
       "      <td>11</td>\n",
       "      <td>12</td>\n",
       "      <td>Astrology: I am a Capricorn Sun Cap moon and c...</td>\n",
       "      <td>I'm a triple Capricorn (Sun, Moon and ascendan...</td>\n",
       "      <td>1</td>\n",
       "    </tr>\n",
       "    <tr>\n",
       "      <th>6</th>\n",
       "      <td>6</td>\n",
       "      <td>13</td>\n",
       "      <td>14</td>\n",
       "      <td>Should I buy tiago?</td>\n",
       "      <td>What keeps childern active and far from phone ...</td>\n",
       "      <td>0</td>\n",
       "    </tr>\n",
       "    <tr>\n",
       "      <th>7</th>\n",
       "      <td>7</td>\n",
       "      <td>15</td>\n",
       "      <td>16</td>\n",
       "      <td>How can I be a good geologist?</td>\n",
       "      <td>What should I do to be a great geologist?</td>\n",
       "      <td>1</td>\n",
       "    </tr>\n",
       "    <tr>\n",
       "      <th>8</th>\n",
       "      <td>8</td>\n",
       "      <td>17</td>\n",
       "      <td>18</td>\n",
       "      <td>When do you use シ instead of し?</td>\n",
       "      <td>When do you use \"&amp;\" instead of \"and\"?</td>\n",
       "      <td>0</td>\n",
       "    </tr>\n",
       "    <tr>\n",
       "      <th>9</th>\n",
       "      <td>9</td>\n",
       "      <td>19</td>\n",
       "      <td>20</td>\n",
       "      <td>Motorola (company): Can I hack my Charter Moto...</td>\n",
       "      <td>How do I hack Motorola DCX3400 for free internet?</td>\n",
       "      <td>0</td>\n",
       "    </tr>\n",
       "  </tbody>\n",
       "</table>\n",
       "</div>"
      ],
      "text/plain": [
       "   id  qid1  qid2                                          question1  \\\n",
       "0   0     1     2  What is the step by step guide to invest in sh...   \n",
       "1   1     3     4  What is the story of Kohinoor (Koh-i-Noor) Dia...   \n",
       "2   2     5     6  How can I increase the speed of my internet co...   \n",
       "3   3     7     8  Why am I mentally very lonely? How can I solve...   \n",
       "4   4     9    10  Which one dissolve in water quikly sugar, salt...   \n",
       "5   5    11    12  Astrology: I am a Capricorn Sun Cap moon and c...   \n",
       "6   6    13    14                                Should I buy tiago?   \n",
       "7   7    15    16                     How can I be a good geologist?   \n",
       "8   8    17    18                    When do you use シ instead of し?   \n",
       "9   9    19    20  Motorola (company): Can I hack my Charter Moto...   \n",
       "\n",
       "                                           question2  is_duplicate  \n",
       "0  What is the step by step guide to invest in sh...             0  \n",
       "1  What would happen if the Indian government sto...             0  \n",
       "2  How can Internet speed be increased by hacking...             0  \n",
       "3  Find the remainder when [math]23^{24}[/math] i...             0  \n",
       "4            Which fish would survive in salt water?             0  \n",
       "5  I'm a triple Capricorn (Sun, Moon and ascendan...             1  \n",
       "6  What keeps childern active and far from phone ...             0  \n",
       "7          What should I do to be a great geologist?             1  \n",
       "8              When do you use \"&\" instead of \"and\"?             0  \n",
       "9  How do I hack Motorola DCX3400 for free internet?             0  "
      ]
     },
     "execution_count": 4,
     "metadata": {},
     "output_type": "execute_result"
    }
   ],
   "source": [
    "df.head(10)"
   ]
  },
  {
   "cell_type": "code",
   "execution_count": 5,
   "metadata": {
    "_cell_guid": "3182574f-aef6-4ff3-6f73-a0da9ed563ae"
   },
   "outputs": [
    {
     "data": {
      "text/plain": [
       "id              0\n",
       "qid1            0\n",
       "qid2            0\n",
       "question1       0\n",
       "question2       0\n",
       "is_duplicate    0\n",
       "dtype: int64"
      ]
     },
     "execution_count": 5,
     "metadata": {},
     "output_type": "execute_result"
    }
   ],
   "source": [
    "df.isnull().sum()"
   ]
  },
  {
   "cell_type": "code",
   "execution_count": 6,
   "metadata": {
    "_cell_guid": "35c44a8f-30b8-885f-3421-7ed91103c006"
   },
   "outputs": [
    {
     "data": {
      "text/plain": [
       "0    25109\n",
       "1    14891\n",
       "Name: is_duplicate, dtype: int64"
      ]
     },
     "execution_count": 6,
     "metadata": {},
     "output_type": "execute_result"
    }
   ],
   "source": [
    "df.is_duplicate.value_counts()"
   ]
  },
  {
   "cell_type": "code",
   "execution_count": 7,
   "metadata": {
    "_cell_guid": "0c16a6f4-0a3c-c8b4-253f-26d415999b2a"
   },
   "outputs": [
    {
     "data": {
      "text/plain": [
       "0.627725"
      ]
     },
     "execution_count": 7,
     "metadata": {},
     "output_type": "execute_result"
    }
   ],
   "source": [
    "25109/len(df)"
   ]
  },
  {
   "cell_type": "markdown",
   "metadata": {
    "_cell_guid": "c11a54cc-3445-257f-8929-8af9d2092445"
   },
   "source": [
    "Although accuracy won't be as good of a performance metric as F1, it's still good to establish some sort of a baseline. In this case, 62.8% will be our baseline for accuracy."
   ]
  },
  {
   "cell_type": "code",
   "execution_count": 8,
   "metadata": {
    "_cell_guid": "d7ca166a-72d8-df36-d72e-271e9cf657c2"
   },
   "outputs": [
    {
     "name": "stdout",
     "output_type": "stream",
     "text": [
      "Not duplicate:\n",
      "What is the step by step guide to invest in share market in india?\n",
      "What is the step by step guide to invest in share market?\n",
      "\n",
      "Not duplicate:\n",
      "What is the story of Kohinoor (Koh-i-Noor) Diamond?\n",
      "What would happen if the Indian government stole the Kohinoor (Koh-i-Noor) diamond back?\n",
      "\n",
      "Is duplicate:\n",
      "Astrology: I am a Capricorn Sun Cap moon and cap rising...what does that say about me?\n",
      "I'm a triple Capricorn (Sun, Moon and ascendant in Capricorn) What does this say about me?\n"
     ]
    }
   ],
   "source": [
    "# Take a look at some of the question pairs.\n",
    "print(\"Not duplicate:\")\n",
    "print(df.question1[0])\n",
    "print(df.question2[0])\n",
    "print()\n",
    "print(\"Not duplicate:\")\n",
    "print(df.question1[1])\n",
    "print(df.question2[1])\n",
    "print()\n",
    "print(\"Is duplicate:\")\n",
    "print(df.question1[5])\n",
    "print(df.question2[5])"
   ]
  },
  {
   "cell_type": "markdown",
   "metadata": {
    "_cell_guid": "c8e4b33a-9e11-336e-d325-95fecef2287a"
   },
   "source": [
    "This task looks like it will be a little difficult since the first pair of questions have very similar wordings but different meanings, and the third pair have less similar wordings but the same meaning."
   ]
  },
  {
   "cell_type": "code",
   "execution_count": 9,
   "metadata": {
    "_cell_guid": "6f1d3ec5-c78a-6675-fda3-6ada4339ada9"
   },
   "outputs": [],
   "source": [
    "def review_to_wordlist(review, remove_stopwords=True):\n",
    "    # Clean the text, with the option to remove stopwords.\n",
    "    \n",
    "    # Convert words to lower case and split them\n",
    "    words = review.lower().split()\n",
    "\n",
    "    # Optionally remove stop words (true by default)\n",
    "    if remove_stopwords:\n",
    "        stops = set(stopwords.words(\"english\"))\n",
    "        words = [w for w in words if not w in stops]\n",
    "    \n",
    "    review_text = \" \".join(words)\n",
    "\n",
    "    # Clean the text\n",
    "    review_text = re.sub(r\"[^A-Za-z0-9(),!.?\\'\\`]\", \" \", review_text)\n",
    "    review_text = re.sub(r\"\\'s\", \" 's \", review_text)\n",
    "    review_text = re.sub(r\"\\'ve\", \" 've \", review_text)\n",
    "    review_text = re.sub(r\"n\\'t\", \" 't \", review_text)\n",
    "    review_text = re.sub(r\"\\'re\", \" 're \", review_text)\n",
    "    review_text = re.sub(r\"\\'d\", \" 'd \", review_text)\n",
    "    review_text = re.sub(r\"\\'ll\", \" 'll \", review_text)\n",
    "    review_text = re.sub(r\",\", \" \", review_text)\n",
    "    review_text = re.sub(r\"\\.\", \" \", review_text)\n",
    "    review_text = re.sub(r\"!\", \" \", review_text)\n",
    "    review_text = re.sub(r\"\\(\", \" ( \", review_text)\n",
    "    review_text = re.sub(r\"\\)\", \" ) \", review_text)\n",
    "    review_text = re.sub(r\"\\?\", \" \", review_text)\n",
    "    review_text = re.sub(r\"\\s{2,}\", \" \", review_text)\n",
    "    \n",
    "    words = review_text.split()\n",
    "    \n",
    "    # Shorten words to their stems\n",
    "    stemmer = SnowballStemmer('english')\n",
    "    stemmed_words = [stemmer.stem(word) for word in words]\n",
    "    \n",
    "    review_text = \" \".join(stemmed_words)\n",
    "    \n",
    "    # Return a list of words\n",
    "    return(review_text)"
   ]
  },
  {
   "cell_type": "code",
   "execution_count": 10,
   "metadata": {
    "_cell_guid": "f8ef3145-5c43-781c-4097-bdb3a19158ad"
   },
   "outputs": [],
   "source": [
    "def process_questions(question_list, questions, question_list_name):\n",
    "# function to transform questions and display progress\n",
    "    for question in questions:\n",
    "        question_list.append(review_to_wordlist(question))\n",
    "        if len(question_list) % 10000 == 0:\n",
    "            progress = len(question_list)/len(df) * 100\n",
    "            print(\"{} is {}% complete.\".format(question_list_name, round(progress, 1)))"
   ]
  },
  {
   "cell_type": "code",
   "execution_count": 11,
   "metadata": {
    "_cell_guid": "24775bc7-a4b2-facd-e401-499575816c0a"
   },
   "outputs": [
    {
     "name": "stdout",
     "output_type": "stream",
     "text": [
      "questions1 is 25.0% complete.\n",
      "questions1 is 50.0% complete.\n",
      "questions1 is 75.0% complete.\n",
      "questions1 is 100.0% complete.\n",
      "\n",
      "questions2 is 25.0% complete.\n",
      "questions2 is 50.0% complete.\n",
      "questions2 is 75.0% complete.\n",
      "questions2 is 100.0% complete.\n"
     ]
    }
   ],
   "source": [
    "questions1 = []     \n",
    "process_questions(questions1, df.question1, \"questions1\")\n",
    "print()\n",
    "questions2 = []     \n",
    "process_questions(questions2, df.question2, \"questions2\")"
   ]
  },
  {
   "cell_type": "code",
   "execution_count": 12,
   "metadata": {
    "_cell_guid": "452c2930-1da6-47e0-8962-28f87071eebe"
   },
   "outputs": [
    {
     "name": "stdout",
     "output_type": "stream",
     "text": [
      "step step guid invest share market india\n",
      "step step guid invest share market\n",
      "\n",
      "stori kohinoor ( koh i noor ) diamond\n",
      "would happen indian govern stole kohinoor ( koh i noor ) diamond back\n",
      "\n",
      "increas speed internet connect use vpn\n",
      "internet speed increas hack dns\n",
      "\n",
      "mental lone solv it\n",
      "find remaind math 23 24 math divid 24 23\n",
      "\n",
      "one dissolv water quik sugar salt methan carbon di oxid\n",
      "fish would surviv salt water\n",
      "\n"
     ]
    }
   ],
   "source": [
    "# Take a look at some of the processed questions.\n",
    "for i in range(5):\n",
    "    print(questions1[i])\n",
    "    print(questions2[i])\n",
    "    print()"
   ]
  },
  {
   "cell_type": "code",
   "execution_count": 13,
   "metadata": {
    "_cell_guid": "d816fea4-fe50-509d-3d50-0f56cde1c812"
   },
   "outputs": [
    {
     "name": "stdout",
     "output_type": "stream",
     "text": [
      "45\n"
     ]
    }
   ],
   "source": [
    "# Stores the indices of unusable questions\n",
    "invalid_questions = []\n",
    "for i in range(len(questions1)):\n",
    "    # questions need to contain a vowel (which should be part of a full word) to be valid\n",
    "    if not re.search('[aeiouyAEIOUY]', questions1[i]) or not re.search('[aeiouyAEIOUY]', questions2[i]):\n",
    "    # Need to subtract 'len(invalid_questions)' to adjust for the changing index values as questions are removed.\n",
    "        invalid_questions.append(i-len(invalid_questions))\n",
    "print(len(invalid_questions))"
   ]
  },
  {
   "cell_type": "code",
   "execution_count": 14,
   "metadata": {
    "_cell_guid": "773c4ac9-f657-61d3-b9e0-301fe047fffc"
   },
   "outputs": [
    {
     "data": {
      "text/plain": [
       "[812,\n",
       " 1509,\n",
       " 3303,\n",
       " 3397,\n",
       " 3658,\n",
       " 3757,\n",
       " 6870,\n",
       " 7361,\n",
       " 7812,\n",
       " 9737,\n",
       " 10098,\n",
       " 10573,\n",
       " 10602,\n",
       " 11427,\n",
       " 12799,\n",
       " 13001,\n",
       " 13781,\n",
       " 15223,\n",
       " 15478,\n",
       " 17469,\n",
       " 17495,\n",
       " 18122,\n",
       " 18521,\n",
       " 19854,\n",
       " 20051,\n",
       " 20390,\n",
       " 20494,\n",
       " 20770,\n",
       " 23860,\n",
       " 26771,\n",
       " 28242,\n",
       " 28950,\n",
       " 31213,\n",
       " 31726,\n",
       " 31792,\n",
       " 32672,\n",
       " 32840,\n",
       " 33189,\n",
       " 33776,\n",
       " 34723,\n",
       " 35608,\n",
       " 36275,\n",
       " 36732,\n",
       " 37156,\n",
       " 38443]"
      ]
     },
     "execution_count": 14,
     "metadata": {},
     "output_type": "execute_result"
    }
   ],
   "source": [
    "# list of invalid questions\n",
    "invalid_questions"
   ]
  },
  {
   "cell_type": "markdown",
   "metadata": {
    "_cell_guid": "b1f618f0-8f3c-a150-159e-4dbd532b866a"
   },
   "source": [
    "These questions look pretty unusable, so it should be okay to remove them. Plus, we are only removing less than 0.09% of all of the questions."
   ]
  },
  {
   "cell_type": "code",
   "execution_count": 15,
   "metadata": {
    "_cell_guid": "fa18ae1e-af6d-5cfd-4ca3-eafca2ca5a61"
   },
   "outputs": [],
   "source": [
    "# Remove the invalid questions\n",
    "for index in invalid_questions:\n",
    "    df = df[df.id != index]\n",
    "    questions1.pop(index)\n",
    "    questions2.pop(index)\n",
    "\n",
    "# These questions are also unusable, but were not detected initially.\n",
    "# They were found when the function 'cosine_sim' stopped due to an error.\n",
    "unexpected_invalid_questions = [36460]#,42273,65937,304867,306828,353918] \n",
    "for index in unexpected_invalid_questions:\n",
    "    df = df[df.id != index]\n",
    "    questions1.pop(index)\n",
    "    questions2.pop(index)"
   ]
  },
  {
   "cell_type": "code",
   "execution_count": 16,
   "metadata": {
    "_cell_guid": "6702338b-04e5-c512-1186-d62a19c74715"
   },
   "outputs": [],
   "source": [
    "# Use TfidfVectorizer() to transform the questions into vectors,\n",
    "# then compute their cosine similarity.\n",
    "vectorizer = TfidfVectorizer()\n",
    "def cosine_sim(text1, text2):\n",
    "    tfidf = vectorizer.fit_transform([text1, text2])\n",
    "    return ((tfidf * tfidf.T).A)[0,1]"
   ]
  },
  {
   "cell_type": "code",
   "execution_count": 17,
   "metadata": {
    "_cell_guid": "756d9766-cdca-e491-88ab-4dfaf6a3f6b3"
   },
   "outputs": [
    {
     "name": "stdout",
     "output_type": "stream",
     "text": [
      "Similarity Scores is 0.0% complete.\n",
      "Similarity Scores is 25.03% complete.\n",
      "Similarity Scores is 50.06% complete.\n",
      "Similarity Scores is 75.09% complete.\n"
     ]
    }
   ],
   "source": [
    "Tfidf_scores = []\n",
    "for i in range(len(questions1)):\n",
    "    score = cosine_sim(questions1[i], questions2[i])\n",
    "    Tfidf_scores.append(score)\n",
    "    if i % 10000 == 0:\n",
    "        progress = i/len(questions1) * 100\n",
    "        print(\"Similarity Scores is {}% complete.\".format(round(progress,2)))"
   ]
  },
  {
   "cell_type": "code",
   "execution_count": 18,
   "metadata": {
    "_cell_guid": "b8ca24ce-7bad-6ddc-552e-986c35ead4e3"
   },
   "outputs": [
    {
     "data": {
      "image/png": "[encoded data removed]",
      "text/plain": [
       "<matplotlib.figure.Figure at 0x7fa8810e5f60>"
      ]
     },
     "metadata": {},
     "output_type": "display_data"
    }
   ],
   "source": [
    "# Plot the scores\n",
    "plt.figure(figsize=(12,4))\n",
    "plt.hist(Tfidf_scores, bins = 200)\n",
    "plt.xlim(0,1)\n",
    "plt.show()"
   ]
  },
  {
   "cell_type": "code",
   "execution_count": 19,
   "metadata": {
    "_cell_guid": "85fc4149-21c5-6627-d484-675dbe158632"
   },
   "outputs": [],
   "source": [
    "# Function to report the quality of the model\n",
    "def performance_report(value, score_list):\n",
    "    # the value (0-1) is the cosine similarity score to determine if a pair of questions\n",
    "    # have the same meaning or not.\n",
    "    scores = []\n",
    "    for score in score_list:\n",
    "        if score >= value:\n",
    "            scores.append(1)\n",
    "        else:\n",
    "            scores.append(0)\n",
    "\n",
    "    accuracy = accuracy_score(df.is_duplicate, scores) * 100\n",
    "    print(\"Accuracy score is {}%.\".format(round(accuracy),1))\n",
    "    print()\n",
    "    print(\"Confusion Matrix:\")\n",
    "    print(confusion_matrix(df.is_duplicate, scores))\n",
    "    print()\n",
    "    print(\"Classification Report:\")\n",
    "    print(classification_report(df.is_duplicate, scores))"
   ]
  },
  {
   "cell_type": "code",
   "execution_count": 20,
   "metadata": {
    "_cell_guid": "c8ebbe6f-96ee-6ff8-b9d2-f5583672c33d"
   },
   "outputs": [
    {
     "name": "stdout",
     "output_type": "stream",
     "text": [
      "Accuracy score is 66.0%.\n",
      "\n",
      "Confusion Matrix:\n",
      "[[18277  6803]\n",
      " [ 6894  7980]]\n",
      "\n",
      "Classification Report:\n",
      "             precision    recall  f1-score   support\n",
      "\n",
      "          0       0.73      0.73      0.73     25080\n",
      "          1       0.54      0.54      0.54     14874\n",
      "\n",
      "avg / total       0.66      0.66      0.66     39954\n",
      "\n"
     ]
    }
   ],
   "source": [
    "performance_report(0.52, Tfidf_scores)"
   ]
  },
  {
   "cell_type": "markdown",
   "metadata": {
    "_cell_guid": "ee1ed460-137c-5e3c-9ceb-c4806bd6ad57"
   },
   "source": [
    "Using a threshold of 0.51 for the cosine similarity maximizes both the f1-score and accuracy. It's good to see that we are scoring better than the baseline value of 63.1% accuracy. I'm not too surprised that we didn't score much above the baseline accuracy, given the difficulty of this task."
   ]
  },
  {
   "cell_type": "markdown",
   "metadata": {
    "_cell_guid": "6633798e-9945-38d0-7dbd-82adf097c997"
   },
   "source": [
    "## Method 2: Doc2Vec"
   ]
  },
  {
   "cell_type": "code",
   "execution_count": 21,
   "metadata": {
    "_cell_guid": "5ab44252-b52f-5d3b-3cd8-e1cf4d78bb12"
   },
   "outputs": [],
   "source": [
    "# Reset index to match the index values of questions1 and questions2\n",
    "df = df.reset_index()"
   ]
  },
  {
   "cell_type": "code",
   "execution_count": 22,
   "metadata": {
    "_cell_guid": "21c0e29e-ccf0-86b9-33cf-4d20000b6e88"
   },
   "outputs": [
    {
     "name": "stdout",
     "output_type": "stream",
     "text": [
      "0.0% complete\n",
      "25.03% complete\n",
      "50.06% complete\n",
      "75.09% complete\n"
     ]
    }
   ],
   "source": [
    "# Contains the processed questions for Doc2Vec\n",
    "questions_labeled = []\n",
    "\n",
    "for i in range(len(questions1)):\n",
    "    # Question strings need to be separated into words\n",
    "    # Each question needs a unique label\n",
    "    questions_labeled.append(LabeledSentence(questions1[i].split(), df[df.index == i].qid1))\n",
    "    questions_labeled.append(LabeledSentence(questions2[i].split(), df[df.index == i].qid2))\n",
    "    if i % 10000 == 0:\n",
    "        progress = i/len(questions1) * 100\n",
    "        print(\"{}% complete\".format(round(progress, 2)))"
   ]
  },
  {
   "cell_type": "code",
   "execution_count": 23,
   "metadata": {
    "_cell_guid": "55bf95d8-fb0c-0646-3f22-65f2b0715a59"
   },
   "outputs": [],
   "source": [
    "# Split questions for computing similarity and determining the lengths of the questions.\n",
    "questions1_split = []\n",
    "for question in questions1:\n",
    "    questions1_split.append(question.split())\n",
    "    \n",
    "questions2_split = []\n",
    "for question in questions2:\n",
    "    questions2_split.append(question.split())"
   ]
  },
  {
   "cell_type": "code",
   "execution_count": 24,
   "metadata": {
    "_cell_guid": "c7eab291-dce2-a1b0-6934-38e3333eb0b6"
   },
   "outputs": [],
   "source": [
    "# Determine the length of questions to select more optimal parameters.\n",
    "lengths = []\n",
    "for i in range(len(questions1_split)):\n",
    "    lengths.append(len(questions1_split[i]))\n",
    "    lengths.append(len(questions2_split[i]))\n",
    "lengths = pd.DataFrame(lengths, columns=[\"count\"])"
   ]
  },
  {
   "cell_type": "code",
   "execution_count": 25,
   "metadata": {
    "_cell_guid": "22a38b79-1a80-f5e6-4e0e-987e07aefd94"
   },
   "outputs": [
    {
     "data": {
      "text/plain": [
       "count    79908.000000\n",
       "mean         5.927316\n",
       "std          3.579888\n",
       "min          1.000000\n",
       "25%          4.000000\n",
       "50%          5.000000\n",
       "75%          7.000000\n",
       "max        118.000000\n",
       "Name: count, dtype: float64"
      ]
     },
     "execution_count": 25,
     "metadata": {},
     "output_type": "execute_result"
    }
   ],
   "source": [
    "lengths['count'].describe()"
   ]
  },
  {
   "cell_type": "code",
   "execution_count": 26,
   "metadata": {
    "_cell_guid": "42fd0045-7b6c-cb63-d5f3-fd6b8ac93805"
   },
   "outputs": [
    {
     "data": {
      "text/plain": [
       "18.0"
      ]
     },
     "execution_count": 26,
     "metadata": {},
     "output_type": "execute_result"
    }
   ],
   "source": [
    "# 99% of the questions include 18 or fewer words.\n",
    "np.percentile(lengths['count'], 99)"
   ]
  },
  {
   "cell_type": "code",
   "execution_count": 27,
   "metadata": {
    "_cell_guid": "a854f9a1-967c-d8a2-0943-3616c90cde07"
   },
   "outputs": [],
   "source": [
    "# Build the model\n",
    "model = Doc2Vec(dm = 1, min_count=1, window=10, size=150, sample=1e-4, negative=10)\n",
    "model.build_vocab(questions_labeled)"
   ]
  },
  {
   "cell_type": "code",
   "execution_count": 28,
   "metadata": {
    "_cell_guid": "59ed1462-7671-dac5-6cbb-aa4007b28061"
   },
   "outputs": [
    {
     "name": "stdout",
     "output_type": "stream",
     "text": [
      "Epoch #1 is complete.\n",
      "Epoch #2 is complete.\n",
      "Epoch #3 is complete.\n",
      "Epoch #4 is complete.\n",
      "Epoch #5 is complete.\n"
     ]
    }
   ],
   "source": [
    "# Train the model\n",
    "# 20 epochs performs a bit better, but timed out when uploading\n",
    "for epoch in range(5):\n",
    "    model.train(questions_labeled)\n",
    "    print(\"Epoch #{} is complete.\".format(epoch+1))"
   ]
  },
  {
   "cell_type": "code",
   "execution_count": 29,
   "metadata": {
    "_cell_guid": "98a7e6d0-515f-aa3b-8e8b-0820ae010332"
   },
   "outputs": [
    {
     "data": {
      "text/plain": [
       "[('entrepreneur', 0.6857936382293701),\n",
       " ('inov', 0.6763029098510742),\n",
       " ('ahead', 0.6575323343276978),\n",
       " ('alumni', 0.6464318633079529),\n",
       " ('mentor', 0.6422535181045532),\n",
       " ('best', 0.6395220756530762),\n",
       " ('beginn', 0.6386062502861023),\n",
       " ('apm', 0.6361501216888428),\n",
       " ('profession', 0.6356955766677856),\n",
       " ('acoust', 0.6299639940261841)]"
      ]
     },
     "execution_count": 29,
     "metadata": {},
     "output_type": "execute_result"
    }
   ],
   "source": [
    "# Check a few terms to ensure the model was trained properly.\n",
    "model.most_similar('good')"
   ]
  },
  {
   "cell_type": "code",
   "execution_count": 30,
   "metadata": {
    "_cell_guid": "58c1bf60-7a43-dd3d-12a6-52b3260a398a"
   },
   "outputs": [
    {
     "data": {
      "text/plain": [
       "[('hate', 0.8191745281219482),\n",
       " ('obsess', 0.8022257089614868),\n",
       " ('ignor', 0.8013941049575806),\n",
       " ('betray', 0.7752335071563721),\n",
       " ('themselv', 0.768852710723877),\n",
       " ('nobodi', 0.758102297782898),\n",
       " ('silli', 0.7562565803527832),\n",
       " ('dislik', 0.750647783279419),\n",
       " ('bother', 0.7460980415344238),\n",
       " ('tran', 0.7325528264045715)]"
      ]
     },
     "execution_count": 30,
     "metadata": {},
     "output_type": "execute_result"
    }
   ],
   "source": [
    "model.most_similar('peopl')"
   ]
  },
  {
   "cell_type": "code",
   "execution_count": 31,
   "metadata": {
    "_cell_guid": "661535d4-dcbd-5a35-c952-ddd6576f2e36"
   },
   "outputs": [
    {
     "data": {
      "text/plain": [
       "[('read', 0.7840244770050049),\n",
       " ('jam', 0.7611671090126038),\n",
       " ('textbook', 0.722301185131073),\n",
       " ('refer', 0.7218540906906128),\n",
       " ('ncert', 0.7183042764663696),\n",
       " ('recommend', 0.7178277373313904),\n",
       " ('intermedi', 0.7050349712371826),\n",
       " ('fiction', 0.6984944939613342),\n",
       " ('itutor', 0.6941514611244202),\n",
       " ('introductori', 0.6918782591819763)]"
      ]
     },
     "execution_count": 31,
     "metadata": {},
     "output_type": "execute_result"
    }
   ],
   "source": [
    "model.most_similar('book')"
   ]
  },
  {
   "cell_type": "markdown",
   "metadata": {
    "_cell_guid": "a25c1e94-7b8b-ff9b-9d6d-141c3b416971"
   },
   "source": [
    "These words have appropriate similar words, so I am pleased with the training."
   ]
  },
  {
   "cell_type": "code",
   "execution_count": 32,
   "metadata": {
    "_cell_guid": "f96f6331-39f3-1ec8-6db4-a948c5aaa514"
   },
   "outputs": [
    {
     "name": "stdout",
     "output_type": "stream",
     "text": [
      "0.0% complete.\n",
      "25.03% complete.\n",
      "50.06% complete.\n",
      "75.09% complete.\n"
     ]
    }
   ],
   "source": [
    "doc2vec_scores = []\n",
    "for i in range(len(questions1_split)):\n",
    "    # n_similarity computes the cosine similarity in Doc2Vec\n",
    "    score = model.n_similarity(questions1_split[i],questions2_split[i])\n",
    "    doc2vec_scores.append(score)\n",
    "    if i % 10000 == 0:\n",
    "        progress = i/len(questions1_split) * 100\n",
    "        print(\"{}% complete.\".format(round(progress,2)))"
   ]
  },
  {
   "cell_type": "code",
   "execution_count": 33,
   "metadata": {
    "_cell_guid": "c0085f3c-9682-334b-afae-eee818dd898f"
   },
   "outputs": [
    {
     "data": {
      "image/png": "[encoded data removed]",
      "text/plain": [
       "<matplotlib.figure.Figure at 0x7fa86b829f28>"
      ]
     },
     "metadata": {},
     "output_type": "display_data"
    }
   ],
   "source": [
    "# Plot the scores\n",
    "plt.figure(figsize=(12,4))\n",
    "plt.hist(doc2vec_scores, bins = 200)\n",
    "plt.xlim(0,1)\n",
    "plt.show()"
   ]
  },
  {
   "cell_type": "markdown",
   "metadata": {
    "_cell_guid": "174deafd-6537-5da7-e576-b0ffc09d6406"
   },
   "source": [
    "It's interesting to see how Doc2Vec computes the pairs of questions to be more similar than TfidfVectorizer."
   ]
  },
  {
   "cell_type": "code",
   "execution_count": 34,
   "metadata": {
    "_cell_guid": "ef053598-9d46-f2de-3699-37efc3c13e56"
   },
   "outputs": [
    {
     "name": "stdout",
     "output_type": "stream",
     "text": [
      "Accuracy score is 67.0%.\n",
      "\n",
      "Confusion Matrix:\n",
      "[[17465  7615]\n",
      " [ 5666  9208]]\n",
      "\n",
      "Classification Report:\n",
      "             precision    recall  f1-score   support\n",
      "\n",
      "          0       0.76      0.70      0.72     25080\n",
      "          1       0.55      0.62      0.58     14874\n",
      "\n",
      "avg / total       0.68      0.67      0.67     39954\n",
      "\n"
     ]
    }
   ],
   "source": [
    "performance_report(0.92, doc2vec_scores)"
   ]
  },
  {
   "cell_type": "markdown",
   "metadata": {
    "_cell_guid": "62ea90fd-d732-dd87-70f6-8e3bd54b1ad4"
   },
   "source": [
    "Using 0.92 as our threshold, we are able to score slightly higher with the Doc2Vec method. Accuracy is 2 percentage points higher and the f1-score increased by 0.01. Much like with TfidfVectorizer, it would have been nice to score higher, but this is by no means an easy challenge. Nonetheless, I hope that you have learned something from reading this and enjoyed this project as much as I did."
   ]
  },
  {
   "cell_type": "code",
   "execution_count": 35,
   "metadata": {
    "_cell_guid": "a3c872d9-df0d-00e4-8a8b-655c51b11717"
   },
   "outputs": [],
   "source": []
  }
 ],
 "metadata": {
  "_change_revision": 2,
  "_is_fork": false,
  "kernelspec": {
   "display_name": "Python 3",
   "language": "python",
   "name": "python3"
  },
  "language_info": {
   "codemirror_mode": {
    "name": "ipython",
    "version": 3
   },
   "file_extension": ".py",
   "mimetype": "text/x-python",
   "name": "python",
   "nbconvert_exporter": "python",
   "pygments_lexer": "ipython3",
   "version": "3.6.0"
  }
 },
 "nbformat": 4,
 "nbformat_minor": 0
}
